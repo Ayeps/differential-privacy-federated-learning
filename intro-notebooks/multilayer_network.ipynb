{
 "cells": [
  {
   "cell_type": "markdown",
   "metadata": {},
   "source": [
    "## Multilayered Network\n",
    "To make the network more powerful, we can stack up individual neurons into layers. The output of one layer becomes the input for the next layer."
   ]
  },
  {
   "cell_type": "code",
   "execution_count": 30,
   "metadata": {},
   "outputs": [],
   "source": [
    "import torch"
   ]
  },
  {
   "cell_type": "code",
   "execution_count": 31,
   "metadata": {},
   "outputs": [
    {
     "name": "stdout",
     "output_type": "stream",
     "text": [
      "tensor([[0.3171]])\n"
     ]
    }
   ],
   "source": [
    "def activation(x):\n",
    "    \"\"\"Create a sigmoid activation function.\n",
    "    Good for outputs that fall between 0 and 1. (probability)\n",
    "    args x: a torch tensor.\n",
    "    \"\"\"\n",
    "    return 1/(1 + torch.exp(-x))\n",
    "\n",
    "# generate some data\n",
    "torch.manual_seed(7)\n",
    "\n",
    "# features are 3 random normal variables\n",
    "features = torch.randn((1, 3))\n",
    "\n",
    "# define size of each layer in our network\n",
    "n_input = features.shape[1]  # number of input units, must match number of input features\n",
    "n_hidden = 2\n",
    "n_output = 1\n",
    "\n",
    "# weights for input to hidden layer\n",
    "w1 = torch.randn(n_input, n_hidden)\n",
    "# weights for hidden layer to output layer\n",
    "w2 = torch.randn(n_hidden, n_output)\n",
    "\n",
    "# biases for the hidden layer and the output layer\n",
    "b1 = torch.randn(1, n_hidden)\n",
    "b2 = torch.randn(1, n_output)\n",
    "\n",
    "h = activation(torch.mm(features, w1) + b1)\n",
    "# use h as input to the next layer\n",
    "output = activation(torch.mm(h, w2) + b2)\n",
    "print(output)"
   ]
  },
  {
   "cell_type": "markdown",
   "metadata": {},
   "source": [
    "## numpys and tensors\n",
    "We can can create tensors from numpy arrays.\n",
    "The memory is shared between the Numpy array and the Tensor so a change in one will trigger a change in the other."
   ]
  },
  {
   "cell_type": "code",
   "execution_count": 32,
   "metadata": {},
   "outputs": [],
   "source": [
    "import numpy as np\n",
    "a = np.random.rand(4, 3)"
   ]
  },
  {
   "cell_type": "code",
   "execution_count": 33,
   "metadata": {},
   "outputs": [
    {
     "data": {
      "text/plain": [
       "tensor([[0.8519, 0.4287, 0.9095],\n",
       "        [0.7690, 0.7815, 0.7152],\n",
       "        [0.7211, 0.4287, 0.8067],\n",
       "        [0.4219, 0.7282, 0.3916]], dtype=torch.float64)"
      ]
     },
     "execution_count": 33,
     "metadata": {},
     "output_type": "execute_result"
    }
   ],
   "source": [
    "b = torch.from_numpy(a)\n",
    "b"
   ]
  },
  {
   "cell_type": "code",
   "execution_count": 34,
   "metadata": {},
   "outputs": [
    {
     "data": {
      "text/plain": [
       "tensor([[1.7038, 0.8573, 1.8190],\n",
       "        [1.5379, 1.5630, 1.4305],\n",
       "        [1.4422, 0.8574, 1.6133],\n",
       "        [0.8438, 1.4564, 0.7832]], dtype=torch.float64)"
      ]
     },
     "execution_count": 34,
     "metadata": {},
     "output_type": "execute_result"
    }
   ],
   "source": [
    "b.mul_(2)"
   ]
  },
  {
   "cell_type": "code",
   "execution_count": 35,
   "metadata": {},
   "outputs": [
    {
     "data": {
      "text/plain": [
       "array([[1.70379337, 0.85731166, 1.81903246],\n",
       "       [1.53791446, 1.5629657 , 1.4304528 ],\n",
       "       [1.442249  , 0.8573502 , 1.6133007 ],\n",
       "       [0.84380949, 1.45637187, 0.78323228]])"
      ]
     },
     "execution_count": 35,
     "metadata": {},
     "output_type": "execute_result"
    }
   ],
   "source": [
    "a"
   ]
  },
  {
   "cell_type": "code",
   "execution_count": null,
   "metadata": {},
   "outputs": [],
   "source": []
  }
 ],
 "metadata": {
  "kernelspec": {
   "display_name": "Python 3",
   "language": "python",
   "name": "python3"
  },
  "language_info": {
   "codemirror_mode": {
    "name": "ipython",
    "version": 3
   },
   "file_extension": ".py",
   "mimetype": "text/x-python",
   "name": "python",
   "nbconvert_exporter": "python",
   "pygments_lexer": "ipython3",
   "version": "3.6.5"
  }
 },
 "nbformat": 4,
 "nbformat_minor": 2
}
